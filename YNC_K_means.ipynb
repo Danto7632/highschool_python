{
  "nbformat": 4,
  "nbformat_minor": 0,
  "metadata": {
    "colab": {
      "provenance": [],
      "authorship_tag": "ABX9TyMnwxEbSgSBYdybXIpArrhq"
    },
    "kernelspec": {
      "name": "python3",
      "display_name": "Python 3"
    },
    "language_info": {
      "name": "python"
    }
  },
  "cells": [
    {
      "cell_type": "markdown",
      "metadata": {
        "id": "_1P26Chuxg-A"
      },
      "source": [
        "# **데이터 준비**"
      ]
    },
    {
      "cell_type": "markdown",
      "metadata": {
        "id": "pQR0-4hFxGxN"
      },
      "source": [
        "**필요한 패키지 및 라이브러리 import**"
      ]
    },
    {
      "cell_type": "code",
      "metadata": {
        "id": "yewV-Mkuw2JW"
      },
      "source": [
        "from sklearn.datasets import make_blobs\n",
        "import pandas as pd\n",
        "import numpy as np\n",
        "import math\n",
        "import scipy as sp\n",
        "import seaborn as sns\n",
        "import matplotlib.pyplot as plt\n",
        "\n",
        "sns.set_palette(\"Set2\")"
      ],
      "execution_count": null,
      "outputs": []
    },
    {
      "cell_type": "markdown",
      "metadata": {
        "id": "iPZ67ZYJxKVR"
      },
      "source": [
        "**데이터 생성**"
      ]
    },
    {
      "cell_type": "code",
      "metadata": {
        "colab": {
          "base_uri": "https://localhost:8080/",
          "height": 202
        },
        "id": "dcr8b5DjxQ_x",
        "outputId": "9634bad3-05fe-4cc1-efb9-3683c4034822"
      },
      "source": [
        "x, y = make_blobs(n_samples=100, centers=4, n_features=2, random_state=6)\n",
        "points = pd.DataFrame(x, y).reset_index(drop=True)\n",
        "points.columns = [\"x\", \"y\"]\n",
        "points.head()"
      ],
      "execution_count": null,
      "outputs": [
        {
          "output_type": "execute_result",
          "data": {
            "text/html": [
              "<div>\n",
              "<style scoped>\n",
              "    .dataframe tbody tr th:only-of-type {\n",
              "        vertical-align: middle;\n",
              "    }\n",
              "\n",
              "    .dataframe tbody tr th {\n",
              "        vertical-align: top;\n",
              "    }\n",
              "\n",
              "    .dataframe thead th {\n",
              "        text-align: right;\n",
              "    }\n",
              "</style>\n",
              "<table border=\"1\" class=\"dataframe\">\n",
              "  <thead>\n",
              "    <tr style=\"text-align: right;\">\n",
              "      <th></th>\n",
              "      <th>x</th>\n",
              "      <th>y</th>\n",
              "    </tr>\n",
              "  </thead>\n",
              "  <tbody>\n",
              "    <tr>\n",
              "      <th>0</th>\n",
              "      <td>0.276181</td>\n",
              "      <td>-2.217047</td>\n",
              "    </tr>\n",
              "    <tr>\n",
              "      <th>1</th>\n",
              "      <td>7.927368</td>\n",
              "      <td>-9.761527</td>\n",
              "    </tr>\n",
              "    <tr>\n",
              "      <th>2</th>\n",
              "      <td>8.491428</td>\n",
              "      <td>-2.549749</td>\n",
              "    </tr>\n",
              "    <tr>\n",
              "      <th>3</th>\n",
              "      <td>-11.537102</td>\n",
              "      <td>2.434883</td>\n",
              "    </tr>\n",
              "    <tr>\n",
              "      <th>4</th>\n",
              "      <td>4.292259</td>\n",
              "      <td>-8.992204</td>\n",
              "    </tr>\n",
              "  </tbody>\n",
              "</table>\n",
              "</div>"
            ],
            "text/plain": [
              "           x         y\n",
              "0   0.276181 -2.217047\n",
              "1   7.927368 -9.761527\n",
              "2   8.491428 -2.549749\n",
              "3 -11.537102  2.434883\n",
              "4   4.292259 -8.992204"
            ]
          },
          "metadata": {},
          "execution_count": 18
        }
      ]
    },
    {
      "cell_type": "markdown",
      "metadata": {
        "id": "4rxtciBfxsjI"
      },
      "source": [
        "# **직접 해보는 k-means clustering**"
      ]
    },
    {
      "cell_type": "markdown",
      "metadata": {
        "id": "E-jE3vk2xTlY"
      },
      "source": [
        "**Step 1. K값 정하기**"
      ]
    },
    {
      "cell_type": "code",
      "metadata": {
        "colab": {
          "base_uri": "https://localhost:8080/",
          "height": 279
        },
        "id": "euvdcbv-xeIZ",
        "outputId": "b3d54575-38c5-442a-80ba-91c7bcaa3bf1"
      },
      "source": [
        "sns.scatterplot(x=\"x\", y=\"y\", data=points, palette=\"Set2\");"
      ],
      "execution_count": null,
      "outputs": [
        {
          "output_type": "display_data",
          "data": {
            "image/png": "[encoded data removed]",
            "text/plain": [
              "<Figure size 432x288 with 1 Axes>"
            ]
          },
          "metadata": {
            "needs_background": "light"
          }
        }
      ]
    },
    {
      "cell_type": "markdown",
      "metadata": {
        "id": "kz62JLOGx9B5"
      },
      "source": [
        "**Step 2. 중심점(Centroid) 구하기**"
      ]
    },
    {
      "cell_type": "code",
      "metadata": {
        "colab": {
          "base_uri": "https://localhost:8080/",
          "height": 172
        },
        "id": "65uOncRSx_ZQ",
        "outputId": "b4a877d8-be9c-46cc-b39f-66d18155e24a"
      },
      "source": [
        "centroids = points.sample(4, random_state=1)\n",
        "centroids"
      ],
      "execution_count": null,
      "outputs": [
        {
          "output_type": "execute_result",
          "data": {
            "text/html": [
              "<div>\n",
              "<style scoped>\n",
              "    .dataframe tbody tr th:only-of-type {\n",
              "        vertical-align: middle;\n",
              "    }\n",
              "\n",
              "    .dataframe tbody tr th {\n",
              "        vertical-align: top;\n",
              "    }\n",
              "\n",
              "    .dataframe thead th {\n",
              "        text-align: right;\n",
              "    }\n",
              "</style>\n",
              "<table border=\"1\" class=\"dataframe\">\n",
              "  <thead>\n",
              "    <tr style=\"text-align: right;\">\n",
              "      <th></th>\n",
              "      <th>x</th>\n",
              "      <th>y</th>\n",
              "    </tr>\n",
              "  </thead>\n",
              "  <tbody>\n",
              "    <tr>\n",
              "      <th>80</th>\n",
              "      <td>-8.842286</td>\n",
              "      <td>1.786914</td>\n",
              "    </tr>\n",
              "    <tr>\n",
              "      <th>84</th>\n",
              "      <td>4.510561</td>\n",
              "      <td>-9.305970</td>\n",
              "    </tr>\n",
              "    <tr>\n",
              "      <th>33</th>\n",
              "      <td>5.883975</td>\n",
              "      <td>-8.372845</td>\n",
              "    </tr>\n",
              "    <tr>\n",
              "      <th>81</th>\n",
              "      <td>-8.831594</td>\n",
              "      <td>1.690414</td>\n",
              "    </tr>\n",
              "  </tbody>\n",
              "</table>\n",
              "</div>"
            ],
            "text/plain": [
              "           x         y\n",
              "80 -8.842286  1.786914\n",
              "84  4.510561 -9.305970\n",
              "33  5.883975 -8.372845\n",
              "81 -8.831594  1.690414"
            ]
          },
          "metadata": {},
          "execution_count": 27
        }
      ]
    },
    {
      "cell_type": "markdown",
      "metadata": {
        "id": "RrCrJsxqyCtp"
      },
      "source": [
        "**Step3. 각 중심점으로부터의 거리를 구하여 가까운 중심점의 cluster로 할당하기**"
      ]
    },
    {
      "cell_type": "code",
      "metadata": {
        "colab": {
          "base_uri": "https://localhost:8080/",
          "height": 202
        },
        "id": "2AzdHMpSyEQo",
        "outputId": "18673fd1-5b8f-41cc-e702-09b2c0dbe56b"
      },
      "source": [
        "# 각 데이터에 대하여, 각 중심점과의 유클리드 거리 계산\n",
        "distance = sp.spatial.distance.cdist(points, centroids, \"euclidean\")\n",
        "\n",
        "# 가장 거리가 짧은 중심점의 cluster로 할당\n",
        "cluster_num = np.argmin(distance, axis=1)\n",
        "\n",
        "# 결과 확인\n",
        "result = points.copy()\n",
        "result[\"cluster\"] = np.array(cluster_num)\n",
        "result.head()\n"
      ],
      "execution_count": null,
      "outputs": [
        {
          "output_type": "execute_result",
          "data": {
            "text/html": [
              "<div>\n",
              "<style scoped>\n",
              "    .dataframe tbody tr th:only-of-type {\n",
              "        vertical-align: middle;\n",
              "    }\n",
              "\n",
              "    .dataframe tbody tr th {\n",
              "        vertical-align: top;\n",
              "    }\n",
              "\n",
              "    .dataframe thead th {\n",
              "        text-align: right;\n",
              "    }\n",
              "</style>\n",
              "<table border=\"1\" class=\"dataframe\">\n",
              "  <thead>\n",
              "    <tr style=\"text-align: right;\">\n",
              "      <th></th>\n",
              "      <th>x</th>\n",
              "      <th>y</th>\n",
              "      <th>cluster</th>\n",
              "    </tr>\n",
              "  </thead>\n",
              "  <tbody>\n",
              "    <tr>\n",
              "      <th>0</th>\n",
              "      <td>0.276181</td>\n",
              "      <td>-2.217047</td>\n",
              "      <td>1</td>\n",
              "    </tr>\n",
              "    <tr>\n",
              "      <th>1</th>\n",
              "      <td>7.927368</td>\n",
              "      <td>-9.761527</td>\n",
              "      <td>2</td>\n",
              "    </tr>\n",
              "    <tr>\n",
              "      <th>2</th>\n",
              "      <td>8.491428</td>\n",
              "      <td>-2.549749</td>\n",
              "      <td>2</td>\n",
              "    </tr>\n",
              "    <tr>\n",
              "      <th>3</th>\n",
              "      <td>-11.537102</td>\n",
              "      <td>2.434883</td>\n",
              "      <td>0</td>\n",
              "    </tr>\n",
              "    <tr>\n",
              "      <th>4</th>\n",
              "      <td>4.292259</td>\n",
              "      <td>-8.992204</td>\n",
              "      <td>1</td>\n",
              "    </tr>\n",
              "  </tbody>\n",
              "</table>\n",
              "</div>"
            ],
            "text/plain": [
              "           x         y  cluster\n",
              "0   0.276181 -2.217047        1\n",
              "1   7.927368 -9.761527        2\n",
              "2   8.491428 -2.549749        2\n",
              "3 -11.537102  2.434883        0\n",
              "4   4.292259 -8.992204        1"
            ]
          },
          "metadata": {},
          "execution_count": 28
        }
      ]
    },
    {
      "cell_type": "code",
      "metadata": {
        "colab": {
          "base_uri": "https://localhost:8080/",
          "height": 279
        },
        "id": "wfNUtZ14yJ2A",
        "outputId": "8177fec2-e910-4144-ed89-260217323f7d"
      },
      "source": [
        "sns.scatterplot(x=\"x\", y=\"y\", hue=\"cluster\", data=result, palette=\"Set2\");"
      ],
      "execution_count": null,
      "outputs": [
        {
          "output_type": "display_data",
          "data": {
            "image/png": "[encoded data removed]",
            "text/plain": [
              "<Figure size 432x288 with 1 Axes>"
            ]
          },
          "metadata": {
            "needs_background": "light"
          }
        }
      ]
    },
    {
      "cell_type": "markdown",
      "metadata": {
        "id": "hZvFL__iyLwR"
      },
      "source": [
        "**Step 4. 변경된 cluster에 대해서 중심점 구하기**"
      ]
    },
    {
      "cell_type": "code",
      "metadata": {
        "colab": {
          "base_uri": "https://localhost:8080/",
          "height": 202
        },
        "id": "_XzjRGf8yMvY",
        "outputId": "b93d1473-a808-4e43-dc58-0a8e06fdd8ff"
      },
      "source": [
        "# cluster별로 묶어서 평균 계산\n",
        "centroids_2 = result.groupby(\"cluster\").mean()\n",
        "centroids_2"
      ],
      "execution_count": null,
      "outputs": [
        {
          "output_type": "execute_result",
          "data": {
            "text/html": [
              "<div>\n",
              "<style scoped>\n",
              "    .dataframe tbody tr th:only-of-type {\n",
              "        vertical-align: middle;\n",
              "    }\n",
              "\n",
              "    .dataframe tbody tr th {\n",
              "        vertical-align: top;\n",
              "    }\n",
              "\n",
              "    .dataframe thead th {\n",
              "        text-align: right;\n",
              "    }\n",
              "</style>\n",
              "<table border=\"1\" class=\"dataframe\">\n",
              "  <thead>\n",
              "    <tr style=\"text-align: right;\">\n",
              "      <th></th>\n",
              "      <th>x</th>\n",
              "      <th>y</th>\n",
              "    </tr>\n",
              "    <tr>\n",
              "      <th>cluster</th>\n",
              "      <th></th>\n",
              "      <th></th>\n",
              "    </tr>\n",
              "  </thead>\n",
              "  <tbody>\n",
              "    <tr>\n",
              "      <th>0</th>\n",
              "      <td>-8.211603</td>\n",
              "      <td>2.420481</td>\n",
              "    </tr>\n",
              "    <tr>\n",
              "      <th>1</th>\n",
              "      <td>1.913263</td>\n",
              "      <td>-5.034035</td>\n",
              "    </tr>\n",
              "    <tr>\n",
              "      <th>2</th>\n",
              "      <td>6.180105</td>\n",
              "      <td>-5.007395</td>\n",
              "    </tr>\n",
              "    <tr>\n",
              "      <th>3</th>\n",
              "      <td>-5.728498</td>\n",
              "      <td>0.878158</td>\n",
              "    </tr>\n",
              "  </tbody>\n",
              "</table>\n",
              "</div>"
            ],
            "text/plain": [
              "                x         y\n",
              "cluster                    \n",
              "0       -8.211603  2.420481\n",
              "1        1.913263 -5.034035\n",
              "2        6.180105 -5.007395\n",
              "3       -5.728498  0.878158"
            ]
          },
          "metadata": {},
          "execution_count": 30
        }
      ]
    },
    {
      "cell_type": "markdown",
      "metadata": {
        "id": "LVmMaaDAyQC5"
      },
      "source": [
        "**Step 5. 각 중심점으로부터의 거리를 구하여 가까운 중심점의 cluster로 할당하기**"
      ]
    },
    {
      "cell_type": "code",
      "metadata": {
        "colab": {
          "base_uri": "https://localhost:8080/",
          "height": 279
        },
        "id": "ExHiB1UYyRIZ",
        "outputId": "98625e92-d950-462b-880f-4b1bade477c6"
      },
      "source": [
        "# 각 데이터에 대하여, 각 중심점과의 유클리드 거리 계산\n",
        "distance = sp.spatial.distance.cdist(points, centroids_2, \"euclidean\")\n",
        "\n",
        "# 가장 거리가 짧은 중심점의 cluster로 할당\n",
        "cluster_num = np.argmin(distance, axis=1)\n",
        "\n",
        "# 결과 확인\n",
        "result = points.copy()\n",
        "result[\"cluster\"] = np.array(cluster_num)\n",
        "result.head()\n",
        "sns.scatterplot(x=\"x\", y=\"y\", hue=\"cluster\", data=result, palette=\"Set2\");\n"
      ],
      "execution_count": null,
      "outputs": [
        {
          "output_type": "display_data",
          "data": {
            "image/png": "[encoded data removed]",
            "text/plain": [
              "<Figure size 432x288 with 1 Axes>"
            ]
          },
          "metadata": {
            "needs_background": "light"
          }
        }
      ]
    },
    {
      "cell_type": "markdown",
      "metadata": {
        "id": "uz6q3oHOzTkA"
      },
      "source": [
        "**Step 6. Step 4, 5 반복하기**"
      ]
    },
    {
      "cell_type": "code",
      "metadata": {
        "colab": {
          "base_uri": "https://localhost:8080/",
          "height": 202
        },
        "id": "TbeLH521zWKh",
        "outputId": "791233c2-9f3b-42e0-9c9c-a3bfe7c6525d"
      },
      "source": [
        "# cluster별로 묶어서 평균 계산\n",
        "centroids_3 = result.groupby(\"cluster\").mean()\n",
        "centroids_3"
      ],
      "execution_count": null,
      "outputs": [
        {
          "output_type": "execute_result",
          "data": {
            "text/html": [
              "<div>\n",
              "<style scoped>\n",
              "    .dataframe tbody tr th:only-of-type {\n",
              "        vertical-align: middle;\n",
              "    }\n",
              "\n",
              "    .dataframe tbody tr th {\n",
              "        vertical-align: top;\n",
              "    }\n",
              "\n",
              "    .dataframe thead th {\n",
              "        text-align: right;\n",
              "    }\n",
              "</style>\n",
              "<table border=\"1\" class=\"dataframe\">\n",
              "  <thead>\n",
              "    <tr style=\"text-align: right;\">\n",
              "      <th></th>\n",
              "      <th>x</th>\n",
              "      <th>y</th>\n",
              "    </tr>\n",
              "    <tr>\n",
              "      <th>cluster</th>\n",
              "      <th></th>\n",
              "      <th></th>\n",
              "    </tr>\n",
              "  </thead>\n",
              "  <tbody>\n",
              "    <tr>\n",
              "      <th>0</th>\n",
              "      <td>-8.240005</td>\n",
              "      <td>1.878027</td>\n",
              "    </tr>\n",
              "    <tr>\n",
              "      <th>1</th>\n",
              "      <td>0.645054</td>\n",
              "      <td>-1.534647</td>\n",
              "    </tr>\n",
              "    <tr>\n",
              "      <th>2</th>\n",
              "      <td>7.281412</td>\n",
              "      <td>-6.216551</td>\n",
              "    </tr>\n",
              "    <tr>\n",
              "      <th>3</th>\n",
              "      <td>-5.865201</td>\n",
              "      <td>0.899843</td>\n",
              "    </tr>\n",
              "  </tbody>\n",
              "</table>\n",
              "</div>"
            ],
            "text/plain": [
              "                x         y\n",
              "cluster                    \n",
              "0       -8.240005  1.878027\n",
              "1        0.645054 -1.534647\n",
              "2        7.281412 -6.216551\n",
              "3       -5.865201  0.899843"
            ]
          },
          "metadata": {},
          "execution_count": 32
        }
      ]
    },
    {
      "cell_type": "code",
      "metadata": {
        "colab": {
          "base_uri": "https://localhost:8080/",
          "height": 279
        },
        "id": "l_CajnIjzjUG",
        "outputId": "07ce8ea8-1ebc-45b1-9b44-005bfef8647f"
      },
      "source": [
        "# 각 데이터에 대하여, 각 중심점과의 유클리드 거리 계산\n",
        "distance = sp.spatial.distance.cdist(points, centroids_3, \"euclidean\")\n",
        "\n",
        "# 가장 거리가 짧은 중심점의 cluster로 할당\n",
        "cluster_num = np.argmin(distance, axis=1)\n",
        "\n",
        "# 결과 확인\n",
        "result = points.copy()\n",
        "result[\"cluster\"] = np.array(cluster_num)\n",
        "result.head()\n",
        "sns.scatterplot(x=\"x\", y=\"y\", hue=\"cluster\", data=result, palette=\"Set2\");"
      ],
      "execution_count": null,
      "outputs": [
        {
          "output_type": "display_data",
          "data": {
            "image/png": "[encoded data removed]",
            "text/plain": [
              "<Figure size 432x288 with 1 Axes>"
            ]
          },
          "metadata": {
            "needs_background": "light"
          }
        }
      ]
    },
    {
      "cell_type": "code",
      "metadata": {
        "colab": {
          "base_uri": "https://localhost:8080/",
          "height": 202
        },
        "id": "NM6R-yY0zr9x",
        "outputId": "c3a05b82-9540-4a1c-e21a-eba445959777"
      },
      "source": [
        "# cluster별로 묶어서 평균 계산\n",
        "centroids_4 = result.groupby(\"cluster\").mean()\n",
        "centroids_4"
      ],
      "execution_count": null,
      "outputs": [
        {
          "output_type": "execute_result",
          "data": {
            "text/html": [
              "<div>\n",
              "<style scoped>\n",
              "    .dataframe tbody tr th:only-of-type {\n",
              "        vertical-align: middle;\n",
              "    }\n",
              "\n",
              "    .dataframe tbody tr th {\n",
              "        vertical-align: top;\n",
              "    }\n",
              "\n",
              "    .dataframe thead th {\n",
              "        text-align: right;\n",
              "    }\n",
              "</style>\n",
              "<table border=\"1\" class=\"dataframe\">\n",
              "  <thead>\n",
              "    <tr style=\"text-align: right;\">\n",
              "      <th></th>\n",
              "      <th>x</th>\n",
              "      <th>y</th>\n",
              "    </tr>\n",
              "    <tr>\n",
              "      <th>cluster</th>\n",
              "      <th></th>\n",
              "      <th></th>\n",
              "    </tr>\n",
              "  </thead>\n",
              "  <tbody>\n",
              "    <tr>\n",
              "      <th>0</th>\n",
              "      <td>-8.167045</td>\n",
              "      <td>1.769716</td>\n",
              "    </tr>\n",
              "    <tr>\n",
              "      <th>1</th>\n",
              "      <td>0.584424</td>\n",
              "      <td>-1.475251</td>\n",
              "    </tr>\n",
              "    <tr>\n",
              "      <th>2</th>\n",
              "      <td>7.281412</td>\n",
              "      <td>-6.216551</td>\n",
              "    </tr>\n",
              "    <tr>\n",
              "      <th>3</th>\n",
              "      <td>-6.481871</td>\n",
              "      <td>1.358530</td>\n",
              "    </tr>\n",
              "  </tbody>\n",
              "</table>\n",
              "</div>"
            ],
            "text/plain": [
              "                x         y\n",
              "cluster                    \n",
              "0       -8.167045  1.769716\n",
              "1        0.584424 -1.475251\n",
              "2        7.281412 -6.216551\n",
              "3       -6.481871  1.358530"
            ]
          },
          "metadata": {},
          "execution_count": 34
        }
      ]
    },
    {
      "cell_type": "code",
      "metadata": {
        "colab": {
          "base_uri": "https://localhost:8080/",
          "height": 279
        },
        "id": "-JExFArCzuPA",
        "outputId": "0d1fd0d5-a890-446f-ed69-97714fa289ac"
      },
      "source": [
        "# 각 데이터에 대하여, 각 중심점과의 유클리드 거리 계산\n",
        "distance = sp.spatial.distance.cdist(points, centroids_4, \"euclidean\")\n",
        "\n",
        "# 가장 거리가 짧은 중심점의 cluster로 할당\n",
        "cluster_num = np.argmin(distance, axis=1)\n",
        "\n",
        "# 결과 확인\n",
        "result = points.copy()\n",
        "result[\"cluster\"] = np.array(cluster_num)\n",
        "result.head()\n",
        "sns.scatterplot(x=\"x\", y=\"y\", hue=\"cluster\", data=result, palette=\"Set2\");"
      ],
      "execution_count": null,
      "outputs": [
        {
          "output_type": "display_data",
          "data": {
            "image/png": "[encoded data removed]",
            "text/plain": [
              "<Figure size 432x288 with 1 Axes>"
            ]
          },
          "metadata": {
            "needs_background": "light"
          }
        }
      ]
    },
    {
      "cell_type": "code",
      "metadata": {
        "colab": {
          "base_uri": "https://localhost:8080/",
          "height": 202
        },
        "id": "HQrY6KN8zxPT",
        "outputId": "44605d62-d551-4cb6-cec4-14982d196d71"
      },
      "source": [
        "# cluster별로 묶어서 평균 계산\n",
        "centroids_5 = result.groupby(\"cluster\").mean()\n",
        "centroids_5"
      ],
      "execution_count": null,
      "outputs": [
        {
          "output_type": "execute_result",
          "data": {
            "text/html": [
              "<div>\n",
              "<style scoped>\n",
              "    .dataframe tbody tr th:only-of-type {\n",
              "        vertical-align: middle;\n",
              "    }\n",
              "\n",
              "    .dataframe tbody tr th {\n",
              "        vertical-align: top;\n",
              "    }\n",
              "\n",
              "    .dataframe thead th {\n",
              "        text-align: right;\n",
              "    }\n",
              "</style>\n",
              "<table border=\"1\" class=\"dataframe\">\n",
              "  <thead>\n",
              "    <tr style=\"text-align: right;\">\n",
              "      <th></th>\n",
              "      <th>x</th>\n",
              "      <th>y</th>\n",
              "    </tr>\n",
              "    <tr>\n",
              "      <th>cluster</th>\n",
              "      <th></th>\n",
              "      <th></th>\n",
              "    </tr>\n",
              "  </thead>\n",
              "  <tbody>\n",
              "    <tr>\n",
              "      <th>0</th>\n",
              "      <td>-8.423578</td>\n",
              "      <td>1.774803</td>\n",
              "    </tr>\n",
              "    <tr>\n",
              "      <th>1</th>\n",
              "      <td>0.584424</td>\n",
              "      <td>-1.475251</td>\n",
              "    </tr>\n",
              "    <tr>\n",
              "      <th>2</th>\n",
              "      <td>7.281412</td>\n",
              "      <td>-6.216551</td>\n",
              "    </tr>\n",
              "    <tr>\n",
              "      <th>3</th>\n",
              "      <td>-6.785169</td>\n",
              "      <td>1.580413</td>\n",
              "    </tr>\n",
              "  </tbody>\n",
              "</table>\n",
              "</div>"
            ],
            "text/plain": [
              "                x         y\n",
              "cluster                    \n",
              "0       -8.423578  1.774803\n",
              "1        0.584424 -1.475251\n",
              "2        7.281412 -6.216551\n",
              "3       -6.785169  1.580413"
            ]
          },
          "metadata": {},
          "execution_count": 36
        }
      ]
    },
    {
      "cell_type": "code",
      "metadata": {
        "colab": {
          "base_uri": "https://localhost:8080/",
          "height": 279
        },
        "id": "6MAbSzsoz0ch",
        "outputId": "770c994c-6aaf-48ed-96f7-8da97a1f96fb"
      },
      "source": [
        "# 각 데이터에 대하여, 각 중심점과의 유클리드 거리 계산\n",
        "distance = sp.spatial.distance.cdist(points, centroids_5, \"euclidean\")\n",
        "\n",
        "# 가장 거리가 짧은 중심점의 cluster로 할당\n",
        "cluster_num = np.argmin(distance, axis=1)\n",
        "\n",
        "# 결과 확인\n",
        "result = points.copy()\n",
        "result[\"cluster\"] = np.array(cluster_num)\n",
        "result.head()\n",
        "sns.scatterplot(x=\"x\", y=\"y\", hue=\"cluster\", data=result, palette=\"Set2\");"
      ],
      "execution_count": null,
      "outputs": [
        {
          "output_type": "display_data",
          "data": {
            "image/png": "[encoded data removed]",
            "text/plain": [
              "<Figure size 432x288 with 1 Axes>"
            ]
          },
          "metadata": {
            "needs_background": "light"
          }
        }
      ]
    },
    {
      "cell_type": "markdown",
      "metadata": {
        "id": "3YATtspVz8Ei"
      },
      "source": [
        "#**Scikit-Learn을 이용해보자**"
      ]
    },
    {
      "cell_type": "code",
      "metadata": {
        "colab": {
          "base_uri": "https://localhost:8080/",
          "height": 202
        },
        "id": "xJCKp1Xj0_Ue",
        "outputId": "3278300a-64d9-4821-bb40-35da88bdc5f8"
      },
      "source": [
        "from sklearn.cluster import KMeans\n",
        "\n",
        "# k-means clustering 실행\n",
        "kmeans = KMeans(n_clusters=4)\n",
        "kmeans.fit(points)\n",
        "\n",
        "# 결과 확인\n",
        "result_by_sklearn = points.copy()\n",
        "result_by_sklearn[\"cluster\"] = kmeans.labels_\n",
        "result_by_sklearn.head()"
      ],
      "execution_count": null,
      "outputs": [
        {
          "output_type": "execute_result",
          "data": {
            "text/html": [
              "<div>\n",
              "<style scoped>\n",
              "    .dataframe tbody tr th:only-of-type {\n",
              "        vertical-align: middle;\n",
              "    }\n",
              "\n",
              "    .dataframe tbody tr th {\n",
              "        vertical-align: top;\n",
              "    }\n",
              "\n",
              "    .dataframe thead th {\n",
              "        text-align: right;\n",
              "    }\n",
              "</style>\n",
              "<table border=\"1\" class=\"dataframe\">\n",
              "  <thead>\n",
              "    <tr style=\"text-align: right;\">\n",
              "      <th></th>\n",
              "      <th>x</th>\n",
              "      <th>y</th>\n",
              "      <th>cluster</th>\n",
              "    </tr>\n",
              "  </thead>\n",
              "  <tbody>\n",
              "    <tr>\n",
              "      <th>0</th>\n",
              "      <td>0.276181</td>\n",
              "      <td>-2.217047</td>\n",
              "      <td>3</td>\n",
              "    </tr>\n",
              "    <tr>\n",
              "      <th>1</th>\n",
              "      <td>7.927368</td>\n",
              "      <td>-9.761527</td>\n",
              "      <td>2</td>\n",
              "    </tr>\n",
              "    <tr>\n",
              "      <th>2</th>\n",
              "      <td>8.491428</td>\n",
              "      <td>-2.549749</td>\n",
              "      <td>0</td>\n",
              "    </tr>\n",
              "    <tr>\n",
              "      <th>3</th>\n",
              "      <td>-11.537102</td>\n",
              "      <td>2.434883</td>\n",
              "      <td>1</td>\n",
              "    </tr>\n",
              "    <tr>\n",
              "      <th>4</th>\n",
              "      <td>4.292259</td>\n",
              "      <td>-8.992204</td>\n",
              "      <td>2</td>\n",
              "    </tr>\n",
              "  </tbody>\n",
              "</table>\n",
              "</div>"
            ],
            "text/plain": [
              "           x         y  cluster\n",
              "0   0.276181 -2.217047        3\n",
              "1   7.927368 -9.761527        2\n",
              "2   8.491428 -2.549749        0\n",
              "3 -11.537102  2.434883        1\n",
              "4   4.292259 -8.992204        2"
            ]
          },
          "metadata": {},
          "execution_count": 20
        }
      ]
    },
    {
      "cell_type": "code",
      "metadata": {
        "colab": {
          "base_uri": "https://localhost:8080/",
          "height": 279
        },
        "id": "jqwBohXR1CSv",
        "outputId": "49618ff0-99e6-40af-8de7-10822be8fc0b"
      },
      "source": [
        "sns.scatterplot(x=\"x\", y=\"y\", hue=\"cluster\", data=result_by_sklearn, palette=\"Set2\");"
      ],
      "execution_count": null,
      "outputs": [
        {
          "output_type": "display_data",
          "data": {
            "image/png": "[encoded data removed]",
            "text/plain": [
              "<Figure size 432x288 with 1 Axes>"
            ]
          },
          "metadata": {
            "needs_background": "light"
          }
        }
      ]
    }
  ]
}